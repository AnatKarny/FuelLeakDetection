{
 "cells": [
  {
   "cell_type": "markdown",
   "metadata": {},
   "source": [
    "# Pressure signal Statistical feature extraction\n"
   ]
  },
  {
   "attachments": {
    "image.png": {
     "image/png": "[encoded data removed]"
    }
   },
   "cell_type": "markdown",
   "metadata": {},
   "source": [
    "## Introduction\n",
    "\n",
    "This code is part of Fuel leak detection and location based on NPW.\n",
    "In addition to the features calculated based on the entire signal in the time domain and DWT, time intervals have been implemented along the signal. Intervals were static and dynamic.\n",
    "![image.png](attachment:image.png)"
   ]
  },
  {
   "cell_type": "markdown",
   "metadata": {},
   "source": [
    "## Imports and Global Definitions"
   ]
  },
  {
   "cell_type": "code",
   "execution_count": 1,
   "metadata": {},
   "outputs": [],
   "source": [
    "import numpy as np\n",
    "import pandas as pd"
   ]
  },
  {
   "cell_type": "code",
   "execution_count": 2,
   "metadata": {},
   "outputs": [],
   "source": [
    "from detecta import detect_peaks"
   ]
  },
  {
   "cell_type": "code",
   "execution_count": 3,
   "metadata": {},
   "outputs": [],
   "source": [
    "fs = 50.0       # sample rate, Hz\n",
    "T = 50.0         # seconds\n",
    "n = int(T * fs) # total number of samples (2500)\n",
    "selected_columns = ['File','PT','StartTime','Label','LeakTime']"
   ]
  },
  {
   "cell_type": "code",
   "execution_count": 4,
   "metadata": {},
   "outputs": [],
   "source": [
    "label_colors = [\"#F58C41\", \"#2FAFC6\", \"#800080\", \"#AF1946\", \n",
    "                \"#46A5E1\", \"#522A64\", \"#A3DB05\", \"#FC6514\"]"
   ]
  },
  {
   "cell_type": "code",
   "execution_count": 5,
   "metadata": {},
   "outputs": [],
   "source": [
    "def select_columns(data_frame, column_names):\n",
    "    new_frame = data_frame.loc[:, column_names]\n",
    "    return new_frame"
   ]
  },
  {
   "cell_type": "markdown",
   "metadata": {},
   "source": [
    "## Data Loading"
   ]
  },
  {
   "cell_type": "code",
   "execution_count": 6,
   "metadata": {},
   "outputs": [],
   "source": [
    "ds = 'Train' # the data set name 'Train' or 'Test'"
   ]
  },
  {
   "cell_type": "code",
   "execution_count": 7,
   "metadata": {},
   "outputs": [
    {
     "data": {
      "text/html": [
       "<div>\n",
       "<style scoped>\n",
       "    .dataframe tbody tr th:only-of-type {\n",
       "        vertical-align: middle;\n",
       "    }\n",
       "\n",
       "    .dataframe tbody tr th {\n",
       "        vertical-align: top;\n",
       "    }\n",
       "\n",
       "    .dataframe thead th {\n",
       "        text-align: right;\n",
       "    }\n",
       "</style>\n",
       "<table border=\"1\" class=\"dataframe\">\n",
       "  <thead>\n",
       "    <tr style=\"text-align: right;\">\n",
       "      <th></th>\n",
       "      <th>File</th>\n",
       "      <th>PT</th>\n",
       "      <th>StartTime</th>\n",
       "      <th>Label</th>\n",
       "      <th>LeakTime</th>\n",
       "      <th>s0</th>\n",
       "      <th>s1</th>\n",
       "      <th>s2</th>\n",
       "      <th>s3</th>\n",
       "      <th>s4</th>\n",
       "      <th>...</th>\n",
       "      <th>s2490</th>\n",
       "      <th>s2491</th>\n",
       "      <th>s2492</th>\n",
       "      <th>s2493</th>\n",
       "      <th>s2494</th>\n",
       "      <th>s2495</th>\n",
       "      <th>s2496</th>\n",
       "      <th>s2497</th>\n",
       "      <th>s2498</th>\n",
       "      <th>s2499</th>\n",
       "    </tr>\n",
       "  </thead>\n",
       "  <tbody>\n",
       "    <tr>\n",
       "      <th>0</th>\n",
       "      <td>2559</td>\n",
       "      <td>HDR3039</td>\n",
       "      <td>2019-11-06-13:32:24.20</td>\n",
       "      <td>0</td>\n",
       "      <td>7</td>\n",
       "      <td>1118.682449</td>\n",
       "      <td>1118.520510</td>\n",
       "      <td>1118.358571</td>\n",
       "      <td>1118.196633</td>\n",
       "      <td>1118.034694</td>\n",
       "      <td>...</td>\n",
       "      <td>1092.985714</td>\n",
       "      <td>1093.014694</td>\n",
       "      <td>1093.043673</td>\n",
       "      <td>1093.072653</td>\n",
       "      <td>1093.101633</td>\n",
       "      <td>1093.130612</td>\n",
       "      <td>1093.159592</td>\n",
       "      <td>1093.188571</td>\n",
       "      <td>1093.217551</td>\n",
       "      <td>1093.246531</td>\n",
       "    </tr>\n",
       "    <tr>\n",
       "      <th>1</th>\n",
       "      <td>2714</td>\n",
       "      <td>GLT3023</td>\n",
       "      <td>2019-11-12-06:56:56.300</td>\n",
       "      <td>0</td>\n",
       "      <td>1168</td>\n",
       "      <td>1248.214694</td>\n",
       "      <td>1248.299286</td>\n",
       "      <td>1248.383878</td>\n",
       "      <td>1248.468469</td>\n",
       "      <td>1248.553061</td>\n",
       "      <td>...</td>\n",
       "      <td>1364.319388</td>\n",
       "      <td>1364.329796</td>\n",
       "      <td>1364.340204</td>\n",
       "      <td>1364.350612</td>\n",
       "      <td>1364.361020</td>\n",
       "      <td>1364.371429</td>\n",
       "      <td>1364.381837</td>\n",
       "      <td>1364.392245</td>\n",
       "      <td>1364.402653</td>\n",
       "      <td>1364.413061</td>\n",
       "    </tr>\n",
       "    <tr>\n",
       "      <th>2</th>\n",
       "      <td>766</td>\n",
       "      <td>HDR3039</td>\n",
       "      <td>2017-03-16-16:25:39.60</td>\n",
       "      <td>0</td>\n",
       "      <td>1206</td>\n",
       "      <td>842.676735</td>\n",
       "      <td>842.685102</td>\n",
       "      <td>842.693469</td>\n",
       "      <td>842.701837</td>\n",
       "      <td>842.710204</td>\n",
       "      <td>...</td>\n",
       "      <td>764.152041</td>\n",
       "      <td>764.148571</td>\n",
       "      <td>764.145102</td>\n",
       "      <td>764.141633</td>\n",
       "      <td>764.138163</td>\n",
       "      <td>764.134694</td>\n",
       "      <td>764.131224</td>\n",
       "      <td>764.127755</td>\n",
       "      <td>764.124286</td>\n",
       "      <td>764.120816</td>\n",
       "    </tr>\n",
       "    <tr>\n",
       "      <th>3</th>\n",
       "      <td>302</td>\n",
       "      <td>ESH3427</td>\n",
       "      <td>2017-01-26-11:53:42.530</td>\n",
       "      <td>0</td>\n",
       "      <td>1960</td>\n",
       "      <td>1413.068571</td>\n",
       "      <td>1413.203469</td>\n",
       "      <td>1413.338367</td>\n",
       "      <td>1413.473265</td>\n",
       "      <td>1413.608163</td>\n",
       "      <td>...</td>\n",
       "      <td>1483.441327</td>\n",
       "      <td>1483.440816</td>\n",
       "      <td>1483.440306</td>\n",
       "      <td>1483.439796</td>\n",
       "      <td>1483.439286</td>\n",
       "      <td>1483.438776</td>\n",
       "      <td>1483.438265</td>\n",
       "      <td>1483.437755</td>\n",
       "      <td>1483.437245</td>\n",
       "      <td>1483.436735</td>\n",
       "    </tr>\n",
       "    <tr>\n",
       "      <th>4</th>\n",
       "      <td>2024</td>\n",
       "      <td>ASK3746</td>\n",
       "      <td>2019-05-21-09:15:36.150</td>\n",
       "      <td>0</td>\n",
       "      <td>21</td>\n",
       "      <td>2427.726531</td>\n",
       "      <td>2427.537245</td>\n",
       "      <td>2427.347959</td>\n",
       "      <td>2427.158673</td>\n",
       "      <td>2426.969388</td>\n",
       "      <td>...</td>\n",
       "      <td>2456.765816</td>\n",
       "      <td>2456.750204</td>\n",
       "      <td>2456.734592</td>\n",
       "      <td>2456.718980</td>\n",
       "      <td>2456.703367</td>\n",
       "      <td>2456.687755</td>\n",
       "      <td>2456.672143</td>\n",
       "      <td>2456.656531</td>\n",
       "      <td>2456.640918</td>\n",
       "      <td>2456.625306</td>\n",
       "    </tr>\n",
       "    <tr>\n",
       "      <th>...</th>\n",
       "      <td>...</td>\n",
       "      <td>...</td>\n",
       "      <td>...</td>\n",
       "      <td>...</td>\n",
       "      <td>...</td>\n",
       "      <td>...</td>\n",
       "      <td>...</td>\n",
       "      <td>...</td>\n",
       "      <td>...</td>\n",
       "      <td>...</td>\n",
       "      <td>...</td>\n",
       "      <td>...</td>\n",
       "      <td>...</td>\n",
       "      <td>...</td>\n",
       "      <td>...</td>\n",
       "      <td>...</td>\n",
       "      <td>...</td>\n",
       "      <td>...</td>\n",
       "      <td>...</td>\n",
       "      <td>...</td>\n",
       "      <td>...</td>\n",
       "    </tr>\n",
       "    <tr>\n",
       "      <th>2235</th>\n",
       "      <td>735</td>\n",
       "      <td>HDR3037</td>\n",
       "      <td>2017-03-15-10:29:45.180</td>\n",
       "      <td>1</td>\n",
       "      <td>1772</td>\n",
       "      <td>1658.201633</td>\n",
       "      <td>1658.204286</td>\n",
       "      <td>1658.206939</td>\n",
       "      <td>1658.209592</td>\n",
       "      <td>1658.212245</td>\n",
       "      <td>...</td>\n",
       "      <td>1655.105102</td>\n",
       "      <td>1655.121633</td>\n",
       "      <td>1655.138163</td>\n",
       "      <td>1655.154694</td>\n",
       "      <td>1655.171224</td>\n",
       "      <td>1655.187755</td>\n",
       "      <td>1655.204286</td>\n",
       "      <td>1655.220816</td>\n",
       "      <td>1655.237347</td>\n",
       "      <td>1655.253878</td>\n",
       "    </tr>\n",
       "    <tr>\n",
       "      <th>2236</th>\n",
       "      <td>208</td>\n",
       "      <td>ASH3041</td>\n",
       "      <td>2017-01-16-07:11:58.180</td>\n",
       "      <td>0</td>\n",
       "      <td>2019</td>\n",
       "      <td>530.366531</td>\n",
       "      <td>530.444796</td>\n",
       "      <td>530.523061</td>\n",
       "      <td>530.601327</td>\n",
       "      <td>530.679592</td>\n",
       "      <td>...</td>\n",
       "      <td>508.823980</td>\n",
       "      <td>508.795918</td>\n",
       "      <td>508.767857</td>\n",
       "      <td>508.739796</td>\n",
       "      <td>508.711735</td>\n",
       "      <td>508.683673</td>\n",
       "      <td>508.655612</td>\n",
       "      <td>508.627551</td>\n",
       "      <td>508.599490</td>\n",
       "      <td>508.571429</td>\n",
       "    </tr>\n",
       "    <tr>\n",
       "      <th>2237</th>\n",
       "      <td>1807</td>\n",
       "      <td>ASH3036</td>\n",
       "      <td>2018-07-12-08:16:56.460</td>\n",
       "      <td>0</td>\n",
       "      <td>1930</td>\n",
       "      <td>2451.000000</td>\n",
       "      <td>2451.000000</td>\n",
       "      <td>2451.000000</td>\n",
       "      <td>2451.000000</td>\n",
       "      <td>2451.000000</td>\n",
       "      <td>...</td>\n",
       "      <td>2437.600000</td>\n",
       "      <td>2437.599184</td>\n",
       "      <td>2437.598367</td>\n",
       "      <td>2437.597551</td>\n",
       "      <td>2437.596735</td>\n",
       "      <td>2437.595918</td>\n",
       "      <td>2437.595102</td>\n",
       "      <td>2437.594286</td>\n",
       "      <td>2437.593469</td>\n",
       "      <td>2437.592653</td>\n",
       "    </tr>\n",
       "    <tr>\n",
       "      <th>2238</th>\n",
       "      <td>186</td>\n",
       "      <td>ESH3437</td>\n",
       "      <td>2017-01-13-04:02:48.120</td>\n",
       "      <td>0</td>\n",
       "      <td>269</td>\n",
       "      <td>2363.380408</td>\n",
       "      <td>2363.543980</td>\n",
       "      <td>2363.707551</td>\n",
       "      <td>2363.871122</td>\n",
       "      <td>2364.034694</td>\n",
       "      <td>...</td>\n",
       "      <td>2359.479592</td>\n",
       "      <td>2359.448980</td>\n",
       "      <td>2359.418367</td>\n",
       "      <td>2359.387755</td>\n",
       "      <td>2359.357143</td>\n",
       "      <td>2359.326531</td>\n",
       "      <td>2359.295918</td>\n",
       "      <td>2359.265306</td>\n",
       "      <td>2359.234694</td>\n",
       "      <td>2359.204082</td>\n",
       "    </tr>\n",
       "    <tr>\n",
       "      <th>2239</th>\n",
       "      <td>787</td>\n",
       "      <td>HDR3039</td>\n",
       "      <td>2017-03-22-05:57:33.890</td>\n",
       "      <td>0</td>\n",
       "      <td>1622</td>\n",
       "      <td>946.283265</td>\n",
       "      <td>946.250204</td>\n",
       "      <td>946.217143</td>\n",
       "      <td>946.184082</td>\n",
       "      <td>946.151020</td>\n",
       "      <td>...</td>\n",
       "      <td>937.060204</td>\n",
       "      <td>937.071020</td>\n",
       "      <td>937.081837</td>\n",
       "      <td>937.092653</td>\n",
       "      <td>937.103469</td>\n",
       "      <td>937.114286</td>\n",
       "      <td>937.125102</td>\n",
       "      <td>937.135918</td>\n",
       "      <td>937.146735</td>\n",
       "      <td>937.157551</td>\n",
       "    </tr>\n",
       "  </tbody>\n",
       "</table>\n",
       "<p>2240 rows × 2505 columns</p>\n",
       "</div>"
      ],
      "text/plain": [
       "      File       PT                StartTime  Label  LeakTime           s0  \\\n",
       "0     2559  HDR3039   2019-11-06-13:32:24.20      0         7  1118.682449   \n",
       "1     2714  GLT3023  2019-11-12-06:56:56.300      0      1168  1248.214694   \n",
       "2      766  HDR3039   2017-03-16-16:25:39.60      0      1206   842.676735   \n",
       "3      302  ESH3427  2017-01-26-11:53:42.530      0      1960  1413.068571   \n",
       "4     2024  ASK3746  2019-05-21-09:15:36.150      0        21  2427.726531   \n",
       "...    ...      ...                      ...    ...       ...          ...   \n",
       "2235   735  HDR3037  2017-03-15-10:29:45.180      1      1772  1658.201633   \n",
       "2236   208  ASH3041  2017-01-16-07:11:58.180      0      2019   530.366531   \n",
       "2237  1807  ASH3036  2018-07-12-08:16:56.460      0      1930  2451.000000   \n",
       "2238   186  ESH3437  2017-01-13-04:02:48.120      0       269  2363.380408   \n",
       "2239   787  HDR3039  2017-03-22-05:57:33.890      0      1622   946.283265   \n",
       "\n",
       "               s1           s2           s3           s4  ...        s2490  \\\n",
       "0     1118.520510  1118.358571  1118.196633  1118.034694  ...  1092.985714   \n",
       "1     1248.299286  1248.383878  1248.468469  1248.553061  ...  1364.319388   \n",
       "2      842.685102   842.693469   842.701837   842.710204  ...   764.152041   \n",
       "3     1413.203469  1413.338367  1413.473265  1413.608163  ...  1483.441327   \n",
       "4     2427.537245  2427.347959  2427.158673  2426.969388  ...  2456.765816   \n",
       "...           ...          ...          ...          ...  ...          ...   \n",
       "2235  1658.204286  1658.206939  1658.209592  1658.212245  ...  1655.105102   \n",
       "2236   530.444796   530.523061   530.601327   530.679592  ...   508.823980   \n",
       "2237  2451.000000  2451.000000  2451.000000  2451.000000  ...  2437.600000   \n",
       "2238  2363.543980  2363.707551  2363.871122  2364.034694  ...  2359.479592   \n",
       "2239   946.250204   946.217143   946.184082   946.151020  ...   937.060204   \n",
       "\n",
       "            s2491        s2492        s2493        s2494        s2495  \\\n",
       "0     1093.014694  1093.043673  1093.072653  1093.101633  1093.130612   \n",
       "1     1364.329796  1364.340204  1364.350612  1364.361020  1364.371429   \n",
       "2      764.148571   764.145102   764.141633   764.138163   764.134694   \n",
       "3     1483.440816  1483.440306  1483.439796  1483.439286  1483.438776   \n",
       "4     2456.750204  2456.734592  2456.718980  2456.703367  2456.687755   \n",
       "...           ...          ...          ...          ...          ...   \n",
       "2235  1655.121633  1655.138163  1655.154694  1655.171224  1655.187755   \n",
       "2236   508.795918   508.767857   508.739796   508.711735   508.683673   \n",
       "2237  2437.599184  2437.598367  2437.597551  2437.596735  2437.595918   \n",
       "2238  2359.448980  2359.418367  2359.387755  2359.357143  2359.326531   \n",
       "2239   937.071020   937.081837   937.092653   937.103469   937.114286   \n",
       "\n",
       "            s2496        s2497        s2498        s2499  \n",
       "0     1093.159592  1093.188571  1093.217551  1093.246531  \n",
       "1     1364.381837  1364.392245  1364.402653  1364.413061  \n",
       "2      764.131224   764.127755   764.124286   764.120816  \n",
       "3     1483.438265  1483.437755  1483.437245  1483.436735  \n",
       "4     2456.672143  2456.656531  2456.640918  2456.625306  \n",
       "...           ...          ...          ...          ...  \n",
       "2235  1655.204286  1655.220816  1655.237347  1655.253878  \n",
       "2236   508.655612   508.627551   508.599490   508.571429  \n",
       "2237  2437.595102  2437.594286  2437.593469  2437.592653  \n",
       "2238  2359.295918  2359.265306  2359.234694  2359.204082  \n",
       "2239   937.125102   937.135918   937.146735   937.157551  \n",
       "\n",
       "[2240 rows x 2505 columns]"
      ]
     },
     "execution_count": 7,
     "metadata": {},
     "output_type": "execute_result"
    }
   ],
   "source": [
    "#read data file\n",
    "df= pd.read_csv(ds+'_Data.csv')\n",
    "df"
   ]
  },
  {
   "cell_type": "markdown",
   "metadata": {},
   "source": [
    "## Features Extraction Function"
   ]
  },
  {
   "cell_type": "markdown",
   "metadata": {},
   "source": [
    "### Statistical Featurs\n",
    "Mean, std, slope, min, max, argMin, argMax"
   ]
  },
  {
   "cell_type": "code",
   "execution_count": 8,
   "metadata": {},
   "outputs": [],
   "source": [
    "def get_SF_df(val_df,calcPeaks = 1,prefix = ''):\n",
    "    feature_df = select_columns(df, selected_columns)\n",
    "    if prefix != '':\n",
    "        prefix = prefix+'_'\n",
    "    for  index, row in val_df.iterrows():\n",
    "        smp = np.array(row)\n",
    "        feature_df.at[index,prefix+'Mean'] = smp.mean()\n",
    "        feature_df.at[index,prefix+'Std'] = smp.std()\n",
    "        feature_df.at[index,prefix+'Max'] = smp.max()\n",
    "        feature_df.at[index,prefix+'Min'] = smp.min()\n",
    "        feature_df.at[index,prefix+'argMax'] = np.argmax(smp)\n",
    "        feature_df.at[index,prefix+'argMin'] = np.argmin(smp)\n",
    "        if calcPeaks:\n",
    "            clear_output(wait=True)\n",
    "            print(index)\n",
    "            peaks = detect_peaks(smp, threshold=0.03, valley=True, show=True)\n",
    "            feature_df.at[index,prefix+'peaks'] = peaks.size\n",
    "    return feature_df"
   ]
  },
  {
   "cell_type": "markdown",
   "metadata": {},
   "source": [
    "#### Calculate the slope"
   ]
  },
  {
   "cell_type": "code",
   "execution_count": 9,
   "metadata": {},
   "outputs": [],
   "source": [
    "def calcEvrg(val_df,interval):\n",
    "    feature_df = select_columns(df, selected_columns)\n",
    "    maxCol = len(val_df.columns)\n",
    "    for  i in range(0,maxCol-1):\n",
    "        feature_df['a'+str(i)] = 0\n",
    "        count = 0\n",
    "        for j in range (i,i+interval-1):\n",
    "            if j < maxCol-1:\n",
    "                feature_df['a'+str(i)] = feature_df['a'+str(i)] + val_df.iloc[:,j]\n",
    "                count = count + 1\n",
    "        feature_df['a'+str(i)] =feature_df['a'+str(i)]/count\n",
    "    return feature_df"
   ]
  },
  {
   "cell_type": "code",
   "execution_count": 10,
   "metadata": {},
   "outputs": [],
   "source": [
    "def calcSlope(val_df,interval):\n",
    "    feature_df = select_columns(df, selected_columns)\n",
    "    maxCol = len(val_df.columns)\n",
    "    for  i in range(0,maxCol-interval-1):\n",
    "        feature_df['a'+str(i)] = 0\n",
    "        count = 0\n",
    "        for j in range (i,i+interval-1):\n",
    "            if j+interval < maxCol-1:\n",
    "                feature_df['a'+str(i)] = feature_df['a'+str(i)] + (val_df.iloc[:,j+interval] - val_df.iloc[:,j])\n",
    "                count = count + 1\n",
    "        feature_df['a'+str(i)] =feature_df['a'+str(i)]/2*count\n",
    "    return feature_df"
   ]
  },
  {
   "cell_type": "markdown",
   "metadata": {},
   "source": [
    "## Entire time series FE"
   ]
  },
  {
   "cell_type": "code",
   "execution_count": 11,
   "metadata": {},
   "outputs": [],
   "source": [
    "val_df = df.drop(selected_columns,axis =1)"
   ]
  },
  {
   "cell_type": "code",
   "execution_count": 12,
   "metadata": {},
   "outputs": [
    {
     "data": {
      "text/html": [
       "<div>\n",
       "<style scoped>\n",
       "    .dataframe tbody tr th:only-of-type {\n",
       "        vertical-align: middle;\n",
       "    }\n",
       "\n",
       "    .dataframe tbody tr th {\n",
       "        vertical-align: top;\n",
       "    }\n",
       "\n",
       "    .dataframe thead th {\n",
       "        text-align: right;\n",
       "    }\n",
       "</style>\n",
       "<table border=\"1\" class=\"dataframe\">\n",
       "  <thead>\n",
       "    <tr style=\"text-align: right;\">\n",
       "      <th></th>\n",
       "      <th>File</th>\n",
       "      <th>PT</th>\n",
       "      <th>StartTime</th>\n",
       "      <th>Label</th>\n",
       "      <th>LeakTime</th>\n",
       "      <th>Mean</th>\n",
       "      <th>Std</th>\n",
       "      <th>Max</th>\n",
       "      <th>Min</th>\n",
       "      <th>argMax</th>\n",
       "      <th>argMin</th>\n",
       "    </tr>\n",
       "  </thead>\n",
       "  <tbody>\n",
       "    <tr>\n",
       "      <th>0</th>\n",
       "      <td>2559</td>\n",
       "      <td>HDR3039</td>\n",
       "      <td>2019-11-06-13:32:24.20</td>\n",
       "      <td>0</td>\n",
       "      <td>7</td>\n",
       "      <td>1103.506837</td>\n",
       "      <td>13.055633</td>\n",
       "      <td>1126.877551</td>\n",
       "      <td>1087.877551</td>\n",
       "      <td>1684.0</td>\n",
       "      <td>387.0</td>\n",
       "    </tr>\n",
       "    <tr>\n",
       "      <th>1</th>\n",
       "      <td>2714</td>\n",
       "      <td>GLT3023</td>\n",
       "      <td>2019-11-12-06:56:56.300</td>\n",
       "      <td>0</td>\n",
       "      <td>1168</td>\n",
       "      <td>1322.945433</td>\n",
       "      <td>31.952953</td>\n",
       "      <td>1364.413061</td>\n",
       "      <td>1248.214694</td>\n",
       "      <td>2499.0</td>\n",
       "      <td>0.0</td>\n",
       "    </tr>\n",
       "    <tr>\n",
       "      <th>2</th>\n",
       "      <td>766</td>\n",
       "      <td>HDR3039</td>\n",
       "      <td>2017-03-16-16:25:39.60</td>\n",
       "      <td>0</td>\n",
       "      <td>1206</td>\n",
       "      <td>816.622727</td>\n",
       "      <td>30.016288</td>\n",
       "      <td>846.734694</td>\n",
       "      <td>764.120816</td>\n",
       "      <td>1137.0</td>\n",
       "      <td>2499.0</td>\n",
       "    </tr>\n",
       "    <tr>\n",
       "      <th>3</th>\n",
       "      <td>302</td>\n",
       "      <td>ESH3427</td>\n",
       "      <td>2017-01-26-11:53:42.530</td>\n",
       "      <td>0</td>\n",
       "      <td>1960</td>\n",
       "      <td>1479.348184</td>\n",
       "      <td>26.672224</td>\n",
       "      <td>1514.693878</td>\n",
       "      <td>1413.068571</td>\n",
       "      <td>1853.0</td>\n",
       "      <td>0.0</td>\n",
       "    </tr>\n",
       "    <tr>\n",
       "      <th>4</th>\n",
       "      <td>2024</td>\n",
       "      <td>ASK3746</td>\n",
       "      <td>2019-05-21-09:15:36.150</td>\n",
       "      <td>0</td>\n",
       "      <td>21</td>\n",
       "      <td>2428.766547</td>\n",
       "      <td>25.507517</td>\n",
       "      <td>2459.040816</td>\n",
       "      <td>2385.979592</td>\n",
       "      <td>1081.0</td>\n",
       "      <td>317.0</td>\n",
       "    </tr>\n",
       "    <tr>\n",
       "      <th>...</th>\n",
       "      <td>...</td>\n",
       "      <td>...</td>\n",
       "      <td>...</td>\n",
       "      <td>...</td>\n",
       "      <td>...</td>\n",
       "      <td>...</td>\n",
       "      <td>...</td>\n",
       "      <td>...</td>\n",
       "      <td>...</td>\n",
       "      <td>...</td>\n",
       "      <td>...</td>\n",
       "    </tr>\n",
       "    <tr>\n",
       "      <th>2235</th>\n",
       "      <td>735</td>\n",
       "      <td>HDR3037</td>\n",
       "      <td>2017-03-15-10:29:45.180</td>\n",
       "      <td>1</td>\n",
       "      <td>1772</td>\n",
       "      <td>1655.504155</td>\n",
       "      <td>4.182852</td>\n",
       "      <td>1658.387755</td>\n",
       "      <td>1643.734694</td>\n",
       "      <td>36.0</td>\n",
       "      <td>2005.0</td>\n",
       "    </tr>\n",
       "    <tr>\n",
       "      <th>2236</th>\n",
       "      <td>208</td>\n",
       "      <td>ASH3041</td>\n",
       "      <td>2017-01-16-07:11:58.180</td>\n",
       "      <td>0</td>\n",
       "      <td>2019</td>\n",
       "      <td>528.020947</td>\n",
       "      <td>8.565154</td>\n",
       "      <td>534.693878</td>\n",
       "      <td>508.367347</td>\n",
       "      <td>808.0</td>\n",
       "      <td>2444.0</td>\n",
       "    </tr>\n",
       "    <tr>\n",
       "      <th>2237</th>\n",
       "      <td>1807</td>\n",
       "      <td>ASH3036</td>\n",
       "      <td>2018-07-12-08:16:56.460</td>\n",
       "      <td>0</td>\n",
       "      <td>1930</td>\n",
       "      <td>2447.621167</td>\n",
       "      <td>5.531561</td>\n",
       "      <td>2451.877551</td>\n",
       "      <td>2435.612245</td>\n",
       "      <td>247.0</td>\n",
       "      <td>2170.0</td>\n",
       "    </tr>\n",
       "    <tr>\n",
       "      <th>2238</th>\n",
       "      <td>186</td>\n",
       "      <td>ESH3437</td>\n",
       "      <td>2017-01-13-04:02:48.120</td>\n",
       "      <td>0</td>\n",
       "      <td>269</td>\n",
       "      <td>2368.943433</td>\n",
       "      <td>7.303182</td>\n",
       "      <td>2382.693878</td>\n",
       "      <td>2358.591837</td>\n",
       "      <td>217.0</td>\n",
       "      <td>1900.0</td>\n",
       "    </tr>\n",
       "    <tr>\n",
       "      <th>2239</th>\n",
       "      <td>787</td>\n",
       "      <td>HDR3039</td>\n",
       "      <td>2017-03-22-05:57:33.890</td>\n",
       "      <td>0</td>\n",
       "      <td>1622</td>\n",
       "      <td>946.311755</td>\n",
       "      <td>10.324622</td>\n",
       "      <td>965.755102</td>\n",
       "      <td>936.000000</td>\n",
       "      <td>1329.0</td>\n",
       "      <td>2309.0</td>\n",
       "    </tr>\n",
       "  </tbody>\n",
       "</table>\n",
       "<p>2240 rows × 11 columns</p>\n",
       "</div>"
      ],
      "text/plain": [
       "      File       PT                StartTime  Label  LeakTime         Mean  \\\n",
       "0     2559  HDR3039   2019-11-06-13:32:24.20      0         7  1103.506837   \n",
       "1     2714  GLT3023  2019-11-12-06:56:56.300      0      1168  1322.945433   \n",
       "2      766  HDR3039   2017-03-16-16:25:39.60      0      1206   816.622727   \n",
       "3      302  ESH3427  2017-01-26-11:53:42.530      0      1960  1479.348184   \n",
       "4     2024  ASK3746  2019-05-21-09:15:36.150      0        21  2428.766547   \n",
       "...    ...      ...                      ...    ...       ...          ...   \n",
       "2235   735  HDR3037  2017-03-15-10:29:45.180      1      1772  1655.504155   \n",
       "2236   208  ASH3041  2017-01-16-07:11:58.180      0      2019   528.020947   \n",
       "2237  1807  ASH3036  2018-07-12-08:16:56.460      0      1930  2447.621167   \n",
       "2238   186  ESH3437  2017-01-13-04:02:48.120      0       269  2368.943433   \n",
       "2239   787  HDR3039  2017-03-22-05:57:33.890      0      1622   946.311755   \n",
       "\n",
       "            Std          Max          Min  argMax  argMin  \n",
       "0     13.055633  1126.877551  1087.877551  1684.0   387.0  \n",
       "1     31.952953  1364.413061  1248.214694  2499.0     0.0  \n",
       "2     30.016288   846.734694   764.120816  1137.0  2499.0  \n",
       "3     26.672224  1514.693878  1413.068571  1853.0     0.0  \n",
       "4     25.507517  2459.040816  2385.979592  1081.0   317.0  \n",
       "...         ...          ...          ...     ...     ...  \n",
       "2235   4.182852  1658.387755  1643.734694    36.0  2005.0  \n",
       "2236   8.565154   534.693878   508.367347   808.0  2444.0  \n",
       "2237   5.531561  2451.877551  2435.612245   247.0  2170.0  \n",
       "2238   7.303182  2382.693878  2358.591837   217.0  1900.0  \n",
       "2239  10.324622   965.755102   936.000000  1329.0  2309.0  \n",
       "\n",
       "[2240 rows x 11 columns]"
      ]
     },
     "execution_count": 12,
     "metadata": {},
     "output_type": "execute_result"
    }
   ],
   "source": [
    "features = get_SF_df(val_df,0)\n",
    "features"
   ]
  },
  {
   "cell_type": "code",
   "execution_count": 13,
   "metadata": {},
   "outputs": [],
   "source": [
    "featureSlope = calcSlope(val_df,50)"
   ]
  },
  {
   "cell_type": "code",
   "execution_count": 14,
   "metadata": {},
   "outputs": [],
   "source": [
    "val_Slope = featureSlope.drop(selected_columns,axis =1)\n",
    "features_S = get_SF_df(val_Slope,0)"
   ]
  },
  {
   "cell_type": "code",
   "execution_count": 15,
   "metadata": {},
   "outputs": [],
   "source": [
    "feature_d2 = calcSlope(val_Slope,10)"
   ]
  },
  {
   "cell_type": "code",
   "execution_count": 16,
   "metadata": {},
   "outputs": [],
   "source": [
    "val_d2 = feature_d2.drop(selected_columns,axis =1)\n",
    "features_Sd2 = get_SF_df(val_d2,0)"
   ]
  },
  {
   "cell_type": "code",
   "execution_count": 17,
   "metadata": {},
   "outputs": [],
   "source": [
    "features['MinSlope'] = features_S['Min']\n",
    "features['argMinSlope'] = features_S['argMin']\n",
    "features['t_s1'] = features_S['argMin']\n",
    "features['t_s2'] = features_Sd2['argMax']\n",
    "features['k2'] = features['t_s2'] - features['t_s1']\n",
    "features_dist = features.drop(selected_columns, axis = 1)\n"
   ]
  },
  {
   "cell_type": "code",
   "execution_count": 18,
   "metadata": {},
   "outputs": [
    {
     "ename": "NameError",
     "evalue": "name 'plt' is not defined",
     "output_type": "error",
     "traceback": [
      "\u001b[1;31m---------------------------------------------------------------------------\u001b[0m",
      "\u001b[1;31mNameError\u001b[0m                                 Traceback (most recent call last)",
      "\u001b[1;32m<ipython-input-18-ca1a1e41c369>\u001b[0m in \u001b[0;36m<module>\u001b[1;34m\u001b[0m\n\u001b[1;32m----> 1\u001b[1;33m \u001b[0mfig\u001b[0m \u001b[1;33m=\u001b[0m \u001b[0mplt\u001b[0m\u001b[1;33m.\u001b[0m\u001b[0mfigure\u001b[0m\u001b[1;33m(\u001b[0m\u001b[0mfigsize\u001b[0m \u001b[1;33m=\u001b[0m \u001b[1;33m(\u001b[0m\u001b[1;36m20\u001b[0m\u001b[1;33m,\u001b[0m \u001b[1;36m25\u001b[0m\u001b[1;33m)\u001b[0m\u001b[1;33m)\u001b[0m\u001b[1;33m\u001b[0m\u001b[1;33m\u001b[0m\u001b[0m\n\u001b[0m\u001b[0;32m      2\u001b[0m \u001b[0mj\u001b[0m \u001b[1;33m=\u001b[0m \u001b[1;36m0\u001b[0m\u001b[1;33m\u001b[0m\u001b[1;33m\u001b[0m\u001b[0m\n\u001b[0;32m      3\u001b[0m \u001b[1;32mfor\u001b[0m \u001b[0mi\u001b[0m \u001b[1;32min\u001b[0m \u001b[0mfeatures_dist\u001b[0m\u001b[1;33m.\u001b[0m\u001b[0mcolumns\u001b[0m\u001b[1;33m:\u001b[0m\u001b[1;33m\u001b[0m\u001b[1;33m\u001b[0m\u001b[0m\n\u001b[0;32m      4\u001b[0m     \u001b[0mplt\u001b[0m\u001b[1;33m.\u001b[0m\u001b[0msubplot\u001b[0m\u001b[1;33m(\u001b[0m\u001b[1;36m9\u001b[0m\u001b[1;33m,\u001b[0m \u001b[1;36m3\u001b[0m\u001b[1;33m,\u001b[0m \u001b[0mj\u001b[0m\u001b[1;33m+\u001b[0m\u001b[1;36m1\u001b[0m\u001b[1;33m)\u001b[0m\u001b[1;33m\u001b[0m\u001b[1;33m\u001b[0m\u001b[0m\n\u001b[0;32m      5\u001b[0m     \u001b[0mj\u001b[0m \u001b[1;33m+=\u001b[0m \u001b[1;36m1\u001b[0m\u001b[1;33m\u001b[0m\u001b[1;33m\u001b[0m\u001b[0m\n",
      "\u001b[1;31mNameError\u001b[0m: name 'plt' is not defined"
     ]
    }
   ],
   "source": [
    "fig = plt.figure(figsize = (20, 25))\n",
    "j = 0\n",
    "for i in features_dist.columns:\n",
    "    plt.subplot(9, 3, j+1)\n",
    "    j += 1\n",
    "    sns.distplot(features_dist[i][features['Label']==0], color='g', label = 'Not Leak')\n",
    "    sns.distplot(features_dist[i][features['Label']==1], color='r', label = 'Leak')\n",
    "    plt.legend(loc='best')\n",
    "fig.suptitle('Feature Analysis')\n",
    "fig.tight_layout()\n",
    "fig.subplots_adjust(top=0.95)\n",
    "plt.show()"
   ]
  },
  {
   "cell_type": "markdown",
   "metadata": {},
   "source": [
    "## Interval 200-700 time series W1"
   ]
  },
  {
   "cell_type": "code",
   "execution_count": null,
   "metadata": {},
   "outputs": [],
   "source": [
    "val_df_w1 = df.loc[:, 's200':'s700']\n",
    "val_df_w1.head()"
   ]
  },
  {
   "cell_type": "code",
   "execution_count": null,
   "metadata": {},
   "outputs": [],
   "source": [
    "features_w1 = get_SF_df(val_df_w1,0,'W1')\n",
    "features_w1"
   ]
  },
  {
   "cell_type": "code",
   "execution_count": null,
   "metadata": {},
   "outputs": [],
   "source": [
    "featureSlope = calcSlope(val_df_w1,50)\n",
    "val_Slope_w1 = featureSlope.drop(selected_columns,axis =1)\n",
    "features_S_w1 = get_SF_df(val_Slope_w1,0)"
   ]
  },
  {
   "cell_type": "code",
   "execution_count": null,
   "metadata": {},
   "outputs": [],
   "source": [
    "features_w1['W1_MinSlope'] = features_S_w1['Min']\n",
    "features_w1['W1_argMinSlope'] = features_S_w1['argMin']\n",
    "\n",
    "features_dist_w1 = features_w1.drop(selected_columns, axis = 1)"
   ]
  },
  {
   "cell_type": "code",
   "execution_count": null,
   "metadata": {},
   "outputs": [],
   "source": [
    "fig = plt.figure(figsize = (20, 25))\n",
    "j = 0\n",
    "for i in features_dist_w1.columns:\n",
    "    plt.subplot(9, 3, j+1)\n",
    "    j += 1\n",
    "    sns.distplot(features_dist_w1[i][features_w1['Label']==0], color='g', label = 'Not Leak')\n",
    "    sns.distplot(features_dist_w1[i][features_w1['Label']==1], color='r', label = 'Leak')\n",
    "    plt.legend(loc='best')\n",
    "fig.suptitle('Feature Analysis')\n",
    "fig.tight_layout()\n",
    "fig.subplots_adjust(top=0.95)\n",
    "plt.show()"
   ]
  },
  {
   "cell_type": "markdown",
   "metadata": {},
   "source": [
    "## Interval 900-1400 time series W2"
   ]
  },
  {
   "cell_type": "code",
   "execution_count": null,
   "metadata": {},
   "outputs": [],
   "source": [
    "val_df_w2 = df.loc[:, 's900':'s1400']\n",
    "features_w2 = get_SF_df(val_df_w2,0,'W2')\n",
    "features_w2"
   ]
  },
  {
   "cell_type": "code",
   "execution_count": null,
   "metadata": {},
   "outputs": [],
   "source": [
    "featureSlope = calcSlope(val_df_w2,20)\n",
    "val_Slope_w2 = featureSlope.drop(selected_columns,axis =1)\n",
    "features_S_w2 = get_SF_df(val_Slope_w2,0)"
   ]
  },
  {
   "cell_type": "code",
   "execution_count": null,
   "metadata": {},
   "outputs": [],
   "source": [
    "features_w2['W2_MinSlope'] = features_S_w2['Min']\n",
    "features_w2['W2_argMinSlope'] = features_S_w2['argMin']\n",
    "\n",
    "features_dist_w2 = features_w2.drop(selected_columns, axis = 1)"
   ]
  },
  {
   "cell_type": "code",
   "execution_count": null,
   "metadata": {},
   "outputs": [],
   "source": [
    "fig = plt.figure(figsize = (20, 25))\n",
    "j = 0\n",
    "for i in features_dist_w2.columns:\n",
    "    plt.subplot(9, 3, j+1)\n",
    "    j += 1\n",
    "    sns.distplot(features_dist_w2[i][features_w2['Label']==0], color='g', label = 'Not Leak')\n",
    "    sns.distplot(features_dist_w2[i][features_w2['Label']==1], color='r', label = 'Leak')\n",
    "    plt.legend(loc='best')\n",
    "fig.suptitle('Feature Analysis')\n",
    "fig.tight_layout()\n",
    "fig.subplots_adjust(top=0.95)\n",
    "plt.show()"
   ]
  },
  {
   "cell_type": "markdown",
   "metadata": {},
   "source": [
    "## Interval 1300-1800 time series W3"
   ]
  },
  {
   "cell_type": "code",
   "execution_count": null,
   "metadata": {},
   "outputs": [],
   "source": [
    "val_df_w3 = df.loc[:, 's1300':'s1800']\n",
    "features_w3 = get_SF_df(val_df_w3,0,'W3')\n",
    "features_w3"
   ]
  },
  {
   "cell_type": "code",
   "execution_count": null,
   "metadata": {},
   "outputs": [],
   "source": [
    "featureSlope = calcSlope(val_df_w3,20)\n",
    "val_Slope_w3 = featureSlope.drop(selected_columns,axis =1)\n",
    "features_S_w3 = get_SF_df(val_Slope_w3,0)"
   ]
  },
  {
   "cell_type": "code",
   "execution_count": null,
   "metadata": {},
   "outputs": [],
   "source": [
    "features_w3['W3_MinSlope'] = features_S_w3['Min']\n",
    "features_w3['W3_argMinSlope'] = features_S_w3['argMin']\n",
    "\n",
    "features_dist_w3 = features_w3.drop(selected_columns, axis = 1)"
   ]
  },
  {
   "cell_type": "code",
   "execution_count": null,
   "metadata": {},
   "outputs": [],
   "source": [
    "fig = plt.figure(figsize = (20, 25))\n",
    "j = 0\n",
    "for i in features_dist_w3.columns:\n",
    "    plt.subplot(9, 3, j+1)\n",
    "    j += 1\n",
    "    sns.distplot(features_dist_w3[i][features_w3['Label']==0], color='g', label = 'Not Leak')\n",
    "    sns.distplot(features_dist_w3[i][features_w3['Label']==1], color='r', label = 'Leak')\n",
    "    plt.legend(loc='best')\n",
    "fig.suptitle('Feature Analysis')\n",
    "fig.tight_layout()\n",
    "fig.subplots_adjust(top=0.95)\n",
    "plt.show()"
   ]
  },
  {
   "cell_type": "markdown",
   "metadata": {},
   "source": [
    "## Dynamic window Wp "
   ]
  },
  {
   "cell_type": "code",
   "execution_count": null,
   "metadata": {},
   "outputs": [],
   "source": [
    "k1 = 500\n",
    "Wp_df = df.loc[:, 's0':'s'+ str(k1-1)]\n",
    "for index, row in df.iterrows():\n",
    "    leakTime = row['LeakTime']\n",
    "    if leakTime > k1:\n",
    "        s_wp = 's'+ str(leakTime - (k1-1))\n",
    "        e_wp = 's'+ str(leakTime)\n",
    "        Wp_df.at[index,'s0':'s'+ str(k1-1)] = numpy.array(row[s_wp:e_wp])\n",
    "Wp_df"
   ]
  },
  {
   "cell_type": "code",
   "execution_count": null,
   "metadata": {},
   "outputs": [],
   "source": [
    "features_Wp = get_SF_df(Wp_df,0,'Wp')\n",
    "features_Wp"
   ]
  },
  {
   "cell_type": "code",
   "execution_count": null,
   "metadata": {},
   "outputs": [],
   "source": [
    "featureSlope = calcSlope(Wp_df,10)\n",
    "val_Wp_Slope = featureSlope.drop(selected_columns,axis =1)\n",
    "features_Wp_S = get_SF_df(val_Wp_Slope,0)"
   ]
  },
  {
   "cell_type": "code",
   "execution_count": null,
   "metadata": {},
   "outputs": [],
   "source": [
    "features_Wp = features_Wp.drop(['Wp_argMax','Wp_argMin'], axis = 1)"
   ]
  },
  {
   "cell_type": "code",
   "execution_count": null,
   "metadata": {},
   "outputs": [],
   "source": [
    "features_Wp['Wp_S_Min'] = features_Wp_S['Min']\n",
    "features_Wp['Wp_S_argMin'] = features_Wp_S['argMin']\n",
    "\n",
    "features_dist_Wp = features_Wp.drop(selected_columns, axis = 1)"
   ]
  },
  {
   "cell_type": "code",
   "execution_count": null,
   "metadata": {},
   "outputs": [],
   "source": [
    "fig = plt.figure(figsize = (20, 25))\n",
    "j = 0\n",
    "for i in features_dist_Wp.columns:\n",
    "    plt.subplot(9, 3, j+1)\n",
    "    j += 1\n",
    "    sns.distplot(features_dist_Wp[i][features_Wp['Label']==0], color='g', label = 'Not Leak')\n",
    "    sns.distplot(features_dist_Wp[i][features_Wp['Label']==1], color='r', label = 'Leak')\n",
    "    plt.legend(loc='best')\n",
    "fig.suptitle('Feature Analysis')\n",
    "fig.tight_layout()\n",
    "fig.subplots_adjust(top=0.95)\n",
    "plt.show()"
   ]
  },
  {
   "cell_type": "markdown",
   "metadata": {},
   "source": [
    "## Dynamic window Wd "
   ]
  },
  {
   "cell_type": "code",
   "execution_count": null,
   "metadata": {},
   "outputs": [],
   "source": [
    "features_Wd = select_columns(df, selected_columns)\n",
    "for index, row in df.iterrows():\n",
    "    s_wd = int(features.loc[index,'t_s1']+5)\n",
    "    if s_wd < 0:\n",
    "        s_wd = 0\n",
    "    e_wd =  int(features.loc[index,'t_s2']+5)\n",
    "    k2 =  e_wd - s_wd\n",
    "    if k2 > 0:\n",
    "        data = np.array(row[s_wd:e_wd])\n",
    "        features_Wd.at[index,'Wd_Mean'] = data.mean()\n",
    "        features_Wd.at[index,'Wd_std'] = data.std()\n",
    "        features_Wd.at[index,'Wd_Max'] = data.max()\n",
    "        features_Wd.at[index,'Wd_Min'] = data.min()\n",
    "        features_Wd.at[index,'Wd_argMax'] = np.argmax(data)\n",
    "        features_Wd.at[index,'Wd_argMin'] = np.argmin(data)\n",
    "        features_Wd.at[index,'Wd_S'] = (data[k2-1]-data[0])/k2 \n",
    "        features_Wd.at[index,'k2'] = k2\n",
    "    else:\n",
    "        features_Wd.at[index,'Wd_Mean'] = 0\n",
    "        features_Wd.at[index,'Wd_std'] = 0\n",
    "        features_Wd.at[index,'Wd_Max'] = 0\n",
    "        features_Wd.at[index,'Wd_Min'] = 0\n",
    "        features_Wd.at[index,'Wd_argMax'] = 0\n",
    "        features_Wd.at[index,'Wd_argMin'] = 0\n",
    "        features_Wd.at[index,'Wd_S'] = -10\n",
    "        features_Wd.at[index,'k2'] = k2\n",
    "features_Wd"
   ]
  },
  {
   "cell_type": "code",
   "execution_count": null,
   "metadata": {},
   "outputs": [],
   "source": [
    "features_dist_Wd = features_Wd.drop(selected_columns, axis = 1)"
   ]
  },
  {
   "cell_type": "code",
   "execution_count": null,
   "metadata": {},
   "outputs": [],
   "source": [
    "fig = plt.figure(figsize = (20, 25))\n",
    "j = 0\n",
    "for i in features_dist_Wd.columns:\n",
    "    plt.subplot(9, 3, j+1)\n",
    "    j += 1\n",
    "    sns.distplot(features_dist_Wd[i][features_Wd['Label']==0], color='g', label = 'Not Leak')\n",
    "    sns.distplot(features_dist_Wd[i][features_Wd['Label']==1], color='r', label = 'Leak')\n",
    "    plt.legend(loc='best')\n",
    "fig.suptitle('Feature Analysis')\n",
    "fig.tight_layout()\n",
    "fig.subplots_adjust(top=0.95)\n",
    "plt.show()"
   ]
  },
  {
   "cell_type": "markdown",
   "metadata": {},
   "source": [
    "## Dinamic window Ws"
   ]
  },
  {
   "cell_type": "code",
   "execution_count": null,
   "metadata": {},
   "outputs": [],
   "source": [
    "k3 = 100\n",
    "Ws_df = df.loc[:, 's0':'s'+ str(k3-1)]\n",
    "for index, row in df.iterrows():\n",
    "    minTime = int(features.loc[index,'t_s2'])\n",
    "    if minTime < 2499 - k3:\n",
    "        s_ws = 's'+ str(minTime)\n",
    "        e_ws = 's'+ str(minTime + (k3-1))\n",
    "    else:\n",
    "        s_ws = 's'+ str(2499 - k3+1)\n",
    "        e_ws = 's2499'\n",
    "    Ws_df.at[index,'s0':'s'+ str(k3-1)] = numpy.array(row[s_ws:e_ws])\n",
    "Ws_df"
   ]
  },
  {
   "cell_type": "code",
   "execution_count": null,
   "metadata": {},
   "outputs": [],
   "source": [
    "features_Ws = get_SF_df(Ws_df,0,'Ws')\n",
    "features_Ws"
   ]
  },
  {
   "cell_type": "code",
   "execution_count": null,
   "metadata": {},
   "outputs": [],
   "source": [
    "featureSlope = calcSlope(Ws_df,10)\n",
    "val_Ws_Slope = featureSlope.drop(selected_columns,axis =1)\n",
    "features_Ws_S = get_SF_df(val_Ws_Slope,0)"
   ]
  },
  {
   "cell_type": "code",
   "execution_count": null,
   "metadata": {},
   "outputs": [],
   "source": [
    "features_Ws = features_Ws.drop(['Ws_argMax','Ws_argMin'], axis = 1)"
   ]
  },
  {
   "cell_type": "code",
   "execution_count": null,
   "metadata": {},
   "outputs": [],
   "source": [
    "features_Ws['Ws_s_Min'] = features_Ws_S['Min']\n",
    "features_Ws['Ws_s_argMin'] = features_Ws_S['argMin']\n",
    "\n",
    "features_dist_Ws = features_Ws.drop(selected_columns, axis = 1)"
   ]
  },
  {
   "cell_type": "code",
   "execution_count": null,
   "metadata": {},
   "outputs": [],
   "source": [
    "fig = plt.figure(figsize = (20, 25))\n",
    "j = 0\n",
    "for i in features_dist_Ws.columns:\n",
    "    plt.subplot(9, 3, j+1)\n",
    "    j += 1\n",
    "    sns.distplot(features_dist_Ws[i][features_Ws['Label']==0], color='g', label = 'Not Leak')\n",
    "    sns.distplot(features_dist_Ws[i][features_Ws['Label']==1], color='r', label = 'Leak')\n",
    "    plt.legend(loc='best')\n",
    "fig.suptitle('Feature Analysis')\n",
    "fig.tight_layout()\n",
    "fig.subplots_adjust(top=0.95)\n",
    "plt.show()"
   ]
  },
  {
   "cell_type": "markdown",
   "metadata": {},
   "source": [
    "## Concatenate all features and save to csv"
   ]
  },
  {
   "cell_type": "code",
   "execution_count": null,
   "metadata": {},
   "outputs": [],
   "source": [
    "All_features = select_columns(df, selected_columns)\n",
    "All_features = pd.concat([All_features, features_dist,features_dist_w1,features_dist_w2,features_dist_w3,features_dist_Wp,features_dist_Wd,features_dist_Ws], axis=1, sort=False)\n",
    "All_features.fillna(0)\n",
    "All_features.replace(np.inf, 0)\n",
    "All_features.replace(np.nan, 0, inplace=True)\n",
    "All_features.head()"
   ]
  },
  {
   "cell_type": "code",
   "execution_count": null,
   "metadata": {},
   "outputs": [],
   "source": [
    "All_features.to_csv('all_features_'+ds+'.csv', encoding='utf-8', index=False)"
   ]
  }
 ],
 "metadata": {
  "kernelspec": {
   "display_name": "Python 3",
   "language": "python",
   "name": "python3"
  },
  "language_info": {
   "codemirror_mode": {
    "name": "ipython",
    "version": 3
   },
   "file_extension": ".py",
   "mimetype": "text/x-python",
   "name": "python",
   "nbconvert_exporter": "python",
   "pygments_lexer": "ipython3",
   "version": "3.6.10"
  }
 },
 "nbformat": 4,
 "nbformat_minor": 2
}
